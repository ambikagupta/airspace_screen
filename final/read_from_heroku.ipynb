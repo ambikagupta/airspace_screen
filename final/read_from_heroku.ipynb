{
 "cells": [
  {
   "cell_type": "markdown",
   "metadata": {},
   "source": [
    "## Function to execute a SQL query to read data from our Heroku database.\n",
    "\n",
    "*Please contact Ambika Gupta at ambika.gupta97@gmail.com for database credentials.\"*"
   ]
  },
  {
   "cell_type": "code",
   "execution_count": 1,
   "metadata": {},
   "outputs": [],
   "source": [
    "import psycopg2\n",
    "import pandas as pd"
   ]
  },
  {
   "cell_type": "code",
   "execution_count": 2,
   "metadata": {},
   "outputs": [],
   "source": [
    "database_creds = {}\n",
    "\n",
    "# database_creds = {\"host\": \"\",\n",
    "#                   \"user\": \"\",\n",
    "#                   \"password\": \"\",\n",
    "#                   \"dbname\": \"\"}"
   ]
  },
  {
   "cell_type": "code",
   "execution_count": 3,
   "metadata": {},
   "outputs": [],
   "source": [
    "def read_table(query: str) -> pd.DataFrame:\n",
    "    if not database_creds:\n",
    "        print(\"Please contact Ambika Gupta at ambika.gupta97@gmail.com for database credentials.\")\n",
    "        return\n",
    "    \n",
    "    conn = psycopg2.connect(\n",
    "        host=database_creds[\"host\"],\n",
    "        user=database_creds[\"user\"],\n",
    "        password=database_creds[\"password\"],\n",
    "        dbname=database_creds[\"dbname\"],\n",
    "    ) \n",
    "    df = pd.read_sql_query(query, conn)    \n",
    "    conn.close()\n",
    "    return df"
   ]
  }
 ],
 "metadata": {
  "kernelspec": {
   "display_name": "Python 3",
   "language": "python",
   "name": "python3"
  },
  "language_info": {
   "codemirror_mode": {
    "name": "ipython",
    "version": 3
   },
   "file_extension": ".py",
   "mimetype": "text/x-python",
   "name": "python",
   "nbconvert_exporter": "python",
   "pygments_lexer": "ipython3",
   "version": "3.7.3"
  }
 },
 "nbformat": 4,
 "nbformat_minor": 2
}
