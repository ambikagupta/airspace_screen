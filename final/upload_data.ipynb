{
 "cells": [
  {
   "cell_type": "markdown",
   "metadata": {},
   "source": [
    "# Upload our data to our Heroku table.\n",
    "\n",
    "Please contact Ambika Gupta at ambika.gupta97@gmail.com for database credentials."
   ]
  },
  {
   "cell_type": "code",
   "execution_count": 2,
   "metadata": {},
   "outputs": [],
   "source": [
    "from sqlalchemy import create_engine\n",
    "import pandas as pd"
   ]
  },
  {
   "cell_type": "code",
   "execution_count": 6,
   "metadata": {},
   "outputs": [],
   "source": [
    "database_creds = ''\n",
    "\n",
    "if not database_creds:\n",
    "    print(\"Please contact Ambika Gupta at ambika.gupta97@gmail.com for database credentials.\")\n",
    "    exit()\n",
    "engine = create_engine(database_creds)"
   ]
  },
  {
   "cell_type": "code",
   "execution_count": 7,
   "metadata": {},
   "outputs": [],
   "source": [
    "orders_df = pd.read_csv(r\"../data/orders.csv\")\n",
    "start_addresses_df = pd.read_csv(r\"../data/start_addresses.csv\")\n",
    "end_addresses_df = pd.read_csv(r\"../data/end_addresses.csv\")\n",
    "driving_searches_df = pd.read_csv(r\"../data/driving_searches.csv\")\n",
    "delivery_route_segments_df = pd.read_csv(r\"../data/delivery_route_segments.csv\")"
   ]
  },
  {
   "cell_type": "code",
   "execution_count": 8,
   "metadata": {},
   "outputs": [],
   "source": [
    "orders_df.to_sql('orders', engine, if_exists = 'replace')\n",
    "start_addresses_df.to_sql('start_addresses', engine, if_exists = 'replace')\n",
    "end_addresses_df.to_sql('end_addresses', engine, if_exists = 'replace')\n",
    "driving_searches_df.to_sql('driving_searches', engine, if_exists = 'replace')\n",
    "delivery_route_segments_df.to_sql('delivery_route_segments', engine, if_exists = 'replace')"
   ]
  },
  {
   "cell_type": "code",
   "execution_count": 6,
   "metadata": {},
   "outputs": [
    {
     "name": "stdout",
     "output_type": "stream",
     "text": [
      "Uploaded all tables successfully!\n"
     ]
    }
   ],
   "source": [
    "print(\"Uploaded all tables successfully!\")"
   ]
  }
 ],
 "metadata": {
  "kernelspec": {
   "display_name": "Python 3",
   "language": "python",
   "name": "python3"
  },
  "language_info": {
   "codemirror_mode": {
    "name": "ipython",
    "version": 3
   },
   "file_extension": ".py",
   "mimetype": "text/x-python",
   "name": "python",
   "nbconvert_exporter": "python",
   "pygments_lexer": "ipython3",
   "version": "3.7.3"
  }
 },
 "nbformat": 4,
 "nbformat_minor": 2
}
